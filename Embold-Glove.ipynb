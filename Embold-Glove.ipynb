{
 "cells": [
  {
   "metadata": {},
   "cell_type": "markdown",
   "source": "### data load and clean",
   "id": "6873dbc2c09a8ee7"
  },
  {
   "metadata": {},
   "cell_type": "code",
   "outputs": [],
   "execution_count": null,
   "source": "",
   "id": "2a7323f624eced5b"
  },
  {
   "metadata": {},
   "cell_type": "code",
   "outputs": [],
   "execution_count": null,
   "source": [
    "#load the pretrained 100-dim glove vector embeddings file and convert it into word2vec format598.\n",
    "\n",
    "\n",
    "glove_pretrained_input = '../input/glove-global-vectors-for-word-representation/glove.6B.100d.txt'\n",
    "glove_to_word2vec_converted = 'glove.6B.100d.txt.word2vec'\n",
    "\n",
    "glove_loaded = glove2word2vec(glove_pretrained_input, glove_to_word2vec_converted)\n",
    "print(glove_loaded)"
   ],
   "id": "4426b42d346ff149"
  },
  {
   "metadata": {},
   "cell_type": "code",
   "outputs": [],
   "execution_count": null,
   "source": [
    "# load the word2vec formatted glove vector embeddings model\n",
    "\n",
    "glove_model = KeyedVectors.load_word2vec_format(glove_to_word2vec_converted, binary=False)"
   ],
   "id": "b4925d19b6797940"
  },
  {
   "metadata": {},
   "cell_type": "code",
   "outputs": [],
   "execution_count": null,
   "source": [
    "list_of_words_glove = list(glove_model.key_to_index)\n",
    "print(\"Total number of words in trained glove embeddings :\", len(list_of_words_glove))\n",
    "print(\"\\nThe top 50 words in glove_vectors:\\n\", list_of_words_glove[:50])"
   ],
   "id": "bdda9862eaf23600"
  },
  {
   "metadata": {},
   "cell_type": "code",
   "outputs": [],
   "execution_count": null,
   "source": [
    "# check for the top-10 most similar words using glove embeddings\n",
    "\n",
    "print(glove_model.most_similar('useful',topn=10,))\n",
    "print('='*50)\n",
    "print(glove_model.most_similar('buggy', topn=10,))"
   ],
   "id": "734b95caf03b4b0"
  },
  {
   "metadata": {},
   "cell_type": "code",
   "outputs": [],
   "execution_count": null,
   "source": [
    "#View the embedding vector for the words 'buggy' and 'useful' using glove embeddings\n",
    "\n",
    "print(glove_model)\n",
    "print(type(glove_model))\n",
    "print(\"buggy:\",glove_model['buggy'])\n",
    "print(\"useful:\",glove_model['useful'])"
   ],
   "id": "e7f2a3591218f9ef"
  },
  {
   "metadata": {},
   "cell_type": "code",
   "outputs": [],
   "execution_count": null,
   "source": [
    "# Measure cosine similarity for the words 'buggy' and 'useful' using glove embeddings\n",
    "\n",
    "distance_g = glove_model.similarity('useful','buggy')\n",
    "print(distance_g)"
   ],
   "id": "773137d32ef8e340"
  },
  {
   "metadata": {},
   "cell_type": "code",
   "outputs": [],
   "execution_count": null,
   "source": [
    "#plot the embedding vectors for the words 'buggy' and 'useful' using glove embeddings\n",
    "\n",
    "plt.figure(figsize = (8,6))\n",
    "plt.plot(glove_model['buggy'])\n",
    "plt.plot(glove_model['useful'])\n",
    "plt.show()"
   ],
   "id": "f0c1127ece7e4bea"
  },
  {
   "metadata": {},
   "cell_type": "code",
   "outputs": [],
   "execution_count": null,
   "source": [
    "%%time\n",
    "\n",
    "# Visualization of glove embedded words in 2D using T-SNE transform  \n",
    "\n",
    "tsne = TSNE(n_components=2, random_state=0)\n",
    "glove_data = glove_model[glove_model.key_to_index]\n",
    "glove_tsne_transformed = tsne.fit_transform(glove_data[:200])\n",
    "\n",
    "# create a scatter plot for projecting glove vetors in 2D\n",
    "fig = px.scatter(x=glove_tsne_transformed[:,0], y=glove_tsne_transformed[:,1],text=list_of_words_glove[:200])\n",
    "fig.update_traces(textposition='bottom center')\n",
    "fig.update_layout(\n",
    "     width=1100,\n",
    "    height=900,\n",
    "    title_text='Visualization of glove embedded words in 2D using T-SNE transform'\n",
    ")\n",
    "fig.show()"
   ],
   "id": "2c506dcad745d672"
  },
  {
   "metadata": {},
   "cell_type": "code",
   "outputs": [],
   "execution_count": null,
   "source": "",
   "id": "3271e4b6fd405221"
  }
 ],
 "metadata": {
  "kernelspec": {
   "display_name": "Python 3",
   "language": "python",
   "name": "python3"
  },
  "language_info": {
   "codemirror_mode": {
    "name": "ipython",
    "version": 2
   },
   "file_extension": ".py",
   "mimetype": "text/x-python",
   "name": "python",
   "nbconvert_exporter": "python",
   "pygments_lexer": "ipython2",
   "version": "2.7.6"
  }
 },
 "nbformat": 4,
 "nbformat_minor": 5
}
